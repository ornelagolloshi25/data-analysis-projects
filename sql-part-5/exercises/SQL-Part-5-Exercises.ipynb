{
 "cells": [
  {
   "cell_type": "markdown",
   "metadata": {},
   "source": [
    "# Exercises: Creating, Updating, and Destroying Objects\n",
    "\n",
    "For the exercises, you will be working with objects and data you create. Before opening this notebook, make sure that you have set up the new connection to the server and that you have located the database and your schema.\n",
    "\n",
    "## Object Creation\n",
    "\n",
    "Before coding, think of three things you want to make. These could be coding projects, new recipes, or planned projects for a woodworking hobby. Brainstorm the appropriate column names and data types as well.\n",
    "\n",
    "Create a table under your schema called `planned_makes`."
   ]
  },
  {
   "cell_type": "code",
   "execution_count": null,
   "metadata": {
    "vscode": {
     "languageId": "sql"
    }
   },
   "outputs": [],
   "source": [
    "CREATE TABLE Sep2025JunkDB.ornela_golloshi.planned_makes (\n",
    "    make_id INT PRIMARY KEY IDENTITY(1,1),\n",
    "    name NVARCHAR(100),\n",
    "    category NVARCHAR(50),\n",
    "    estimated_hours INT,\n",
    "    materials_needed NVARCHAR(MAX),\n",
    "    start_date DATE,\n",
    "    is_completed BIT\n",
    ");"
   ]
  },
  {
   "cell_type": "markdown",
   "metadata": {},
   "source": [
    "Add three rows to your table that are your planned makes."
   ]
  },
  {
   "cell_type": "code",
   "execution_count": null,
   "metadata": {
    "vscode": {
     "languageId": "sql"
    }
   },
   "outputs": [],
   "source": [
    "INSERT INTO Sep2025JunkDB.ornela_golloshi.planned_makes (\n",
    "    name,\n",
    "    category,\n",
    "    estimated_hours,\n",
    "    materials_needed,\n",
    "    start_date,\n",
    "    is_completed\n",
    ")\n",
    "VALUES\n",
    "-- Row 1\n",
    "('Build a custom bookshelf', 'Woodworking', 12, 'Pine boards, screws, wood glue, varnish', '2025-11-01', 0),\n",
    "-- Row 2\n",
    "('Design a holiday greeting card set', 'Crafting', 6, 'Cardstock, markers, stickers, envelopes', '2025-11-10', 0),\n",
    "-- Row 3\n",
    "('Create a Raspberry Pi weather station', 'Electronics', 15, 'Raspberry Pi, sensors, wires, soldering kit', '2025-11-15', 0);\n",
    "\n"
   ]
  },
  {
   "cell_type": "markdown",
   "metadata": {},
   "source": [
    "## Update a Row\n",
    "\n",
    "Change different values in one of your three rows."
   ]
  },
  {
   "cell_type": "code",
   "execution_count": null,
   "metadata": {
    "vscode": {
     "languageId": "sql"
    }
   },
   "outputs": [],
   "source": [
    "UPDATE Sep2025JunkDB.ornela_golloshi.planned_makes\n",
    "SET is_completed = 1\n",
    "WHERE make_id = 2;"
   ]
  },
  {
   "cell_type": "markdown",
   "metadata": {},
   "source": [
    "## Delete a Row\n",
    "\n",
    "Delete one of the rows from your table."
   ]
  },
  {
   "cell_type": "code",
   "execution_count": null,
   "metadata": {
    "vscode": {
     "languageId": "sql"
    }
   },
   "outputs": [],
   "source": [
    "DELETE FROM Sep2025JunkDB.ornela_golloshi.planned_makes\n",
    "WHERE make_id = 2;"
   ]
  },
  {
   "cell_type": "markdown",
   "metadata": {},
   "source": [
    "## Drop the Table\n",
    "\n",
    "While this has been fun, it is time to drop the table!"
   ]
  },
  {
   "cell_type": "code",
   "execution_count": null,
   "metadata": {
    "vscode": {
     "languageId": "sql"
    }
   },
   "outputs": [],
   "source": [
    "DROP TABLE Sep2025JunkDB.ornela_golloshi.planned_makes;"
   ]
  }
 ],
 "metadata": {
  "language_info": {
   "name": "python"
  }
 },
 "nbformat": 4,
 "nbformat_minor": 2
}
