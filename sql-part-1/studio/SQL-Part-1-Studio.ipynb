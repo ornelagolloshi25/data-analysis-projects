{
 "cells": [
  {
   "cell_type": "markdown",
   "metadata": {},
   "source": [
    "# SQL Part 1 Studio\n",
    "\n",
    "Let's practice your SQL querying skills!  For each question, work along in the notebook adding your query and answering the questions.\n",
    "\n",
    "## Dataset\n",
    "\n",
    "We will be using the same Goodreads dataset that was used for the exercises in the prep work. Feel free to reference your exercises notebook as you work on the studio. The Kaggle dataset can be found here: [goodbooks-10k](https://www.kaggle.com/zygmunt/goodbooks-10k).\n",
    "\n",
    "You can access **BooksDB** in the Launchcode server.\n",
    "\n",
    "## Business Issue\n",
    "\n",
    "You work for a small independent book store and you want to increase sales by running a new marketing campaign. Before you can design your campaign, you need to get more familiar with what is going on with the world of book publishing. Time to get more familar with BooksDB!"
   ]
  },
  {
   "cell_type": "markdown",
   "metadata": {},
   "source": [
    "## Part 1: BooksDB Questions\n",
    "\n",
    "Question 1: Write a query of the `books` table that returns the top 100 results and includes `book_id`, `authors`, `title`, and `average_rating`. Use an alias for at least one column and sort the result set in descending order of rating. What is the number one book?"
   ]
  },
  {
   "cell_type": "code",
   "execution_count": null,
   "metadata": {
    "vscode": {
     "languageId": "sql"
    }
   },
   "outputs": [],
   "source": [
    "-- return top 100 results\n",
    "SELECT TOP 100\n",
    "    book_id\n",
    "    ,authors\n",
    "    ,title\n",
    "    ,average_rating as rating\n",
    "FROM BooksDB.dbo.books\n",
    "ORDER BY rating DESC;"
   ]
  },
  {
   "cell_type": "markdown",
   "metadata": {},
   "source": [
    "Question 2: Write a query to find the least popular book."
   ]
  },
  {
   "cell_type": "code",
   "execution_count": null,
   "metadata": {
    "vscode": {
     "languageId": "sql"
    }
   },
   "outputs": [],
   "source": [
    "-- return least popular book\n",
    "SELECT TOP 1\n",
    "    book_id\n",
    "    ,authors\n",
    "    ,title\n",
    "    ,average_rating as rating\n",
    "FROM BooksDB.dbo.books\n",
    "ORDER BY rating ASC;"
   ]
  },
  {
   "cell_type": "markdown",
   "metadata": {},
   "source": [
    "Question 3: Which tag is the most popular?"
   ]
  },
  {
   "cell_type": "code",
   "execution_count": null,
   "metadata": {
    "vscode": {
     "languageId": "sql"
    }
   },
   "outputs": [],
   "source": [
    "-- return most popular tag\n",
    "SELECT TOP 1 tag_id, COUNT(tag_id) \n",
    "FROM BooksDB.dbo.book_tags\n",
    "GROUP BY tag_id\n",
    "ORDER BY COUNT(tag_id) DESC"
   ]
  },
  {
   "cell_type": "markdown",
   "metadata": {},
   "source": [
    "Question 4: What is the name of the most popular tag?"
   ]
  },
  {
   "cell_type": "code",
   "execution_count": null,
   "metadata": {
    "vscode": {
     "languageId": "sql"
    }
   },
   "outputs": [],
   "source": [
    "-- return name of most popular tag\n",
    "SELECT TOP 1\n",
    "    BooksDB.dbo.tags.tag_name as \"Tag Name\",\n",
    "    BooksDB.dbo.book_tags.tag_id as \"Tag ID\", \n",
    "    COUNT(BooksDB.dbo.book_tags.tag_id) as \"Total\"\n",
    "FROM BooksDB.dbo.book_tags\n",
    "INNER JOIN BooksDB.dbo.tags\n",
    "on BooksDB.dbo.book_tags.tag_id = BooksDB.dbo.tags.tag_id   \n",
    "GROUP BY BooksDB.dbo.book_tags.tag_id, BooksDB.dbo.tags.tag_name\n",
    "ORDER BY COUNT(BooksDB.dbo.book_tags.tag_id) DESC"
   ]
  },
  {
   "cell_type": "markdown",
   "metadata": {},
   "source": [
    "Question 5: How many books where released in the first decade of 2000?"
   ]
  },
  {
   "cell_type": "code",
   "execution_count": null,
   "metadata": {
    "vscode": {
     "languageId": "sql"
    }
   },
   "outputs": [],
   "source": []
  },
  {
   "cell_type": "code",
   "execution_count": null,
   "metadata": {
    "vscode": {
     "languageId": "sql"
    }
   },
   "outputs": [],
   "source": [
    "-- return number of books published in the first decade of 2000\n",
    "SELECT COUNT(title) AS \"Books Released from between 2000 and 2010\"\n",
    "FROM BooksDB.dbo.books\n",
    "WHERE original_publication_year > 2000 and original_publication_year <= 2010;"
   ]
  },
  {
   "cell_type": "markdown",
   "metadata": {},
   "source": [
    "Question 6: How many book titles contain the word, \"happy\"?"
   ]
  },
  {
   "cell_type": "code",
   "execution_count": null,
   "metadata": {
    "vscode": {
     "languageId": "sql"
    }
   },
   "outputs": [],
   "source": [
    "-- return number of books that contain the word, \"happy\"\n",
    "SELECT COUNT(title)\n",
    "FROM BooksDB.dbo.books\n",
    "WHERE title LIKE '%happy%'"
   ]
  },
  {
   "cell_type": "markdown",
   "metadata": {},
   "source": [
    "Question 7: List the books from the top 3 authors from Question 1.  If there is more than one author just use the first one. Sort the title alphabetically by `author` and then by `average_rating`, best rated to lowest. Does this order matter in sorting?"
   ]
  },
  {
   "cell_type": "code",
   "execution_count": null,
   "metadata": {
    "vscode": {
     "languageId": "sql"
    }
   },
   "outputs": [],
   "source": [
    "-- return all books from the top 3 authors, sort by author and rating\n",
    "SELECT\n",
    "    book_id,\n",
    "    authors,\n",
    "    title,\n",
    "    average_rating as rating\n",
    "FROM BooksDB.dbo.books\n",
    "WHERE authors IN ('Bill Watterson', 'Brandon Sanderson', 'J.K. Rowling')\n",
    "ORDER BY authors ASC, rating DESC;"
   ]
  },
  {
   "cell_type": "markdown",
   "metadata": {},
   "source": [
    "Question 8: Write a query that returns the number of authors whose first name is between rock and roll."
   ]
  },
  {
   "cell_type": "code",
   "execution_count": null,
   "metadata": {
    "vscode": {
     "languageId": "sql"
    }
   },
   "outputs": [],
   "source": [
    "-- return number of authors whose first name is between rock and roll\n",
    "SELECT COUNT( DISTINCT LTRIM(RTRIM(value)) )  AS Author\n",
    "FROM BooksDB.dbo.books\n",
    "CROSS APPLY STRING_SPLIT(authors, ',')\n",
    "WHERE LOWER(LTRIM(RTRIM(value))) BETWEEN 'rock' AND 'roll'"
   ]
  },
  {
   "cell_type": "markdown",
   "metadata": {},
   "source": [
    "## Part 2: Find the Answers to Your Own Questions\n",
    "\n",
    "Your Question:  What are the most frequently used tags in books with fewer than 3,000 ratings?"
   ]
  },
  {
   "cell_type": "code",
   "execution_count": null,
   "metadata": {
    "vscode": {
     "languageId": "sql"
    }
   },
   "outputs": [],
   "source": [
    "-- Add your query here\n",
    "SELECT Top 10\n",
    "    T.tag_name,\n",
    "    SUM(BT.count) AS TagUsage\n",
    "FROM BooksDB.dbo.books B\n",
    "    JOIN BooksDB.dbo.book_tags BT \n",
    "    ON B.book_id = BT.goodreads_book_id\n",
    "    \n",
    "    JOIN BooksDB.dbo.tags T \n",
    "    ON BT.tag_id = T.tag_id\n",
    "WHERE B.ratings_count < 3000\n",
    "GROUP BY T.tag_name\n",
    "ORDER BY T.tag_name ASC, TagUsage DESC;"
   ]
  },
  {
   "cell_type": "markdown",
   "metadata": {},
   "source": [
    "Your Question:  Which books have been added to the most users’ ‘to-read’ shelves?"
   ]
  },
  {
   "cell_type": "code",
   "execution_count": null,
   "metadata": {
    "vscode": {
     "languageId": "sql"
    }
   },
   "outputs": [],
   "source": [
    "--return the top 10 books users want to read\n",
    "SELECT TOP 10 COUNT(TR.book_id), B.title\n",
    "FROM BooksDB.dbo.to_read AS TR\n",
    "INNER JOIN BooksDB.dbo.books AS B\n",
    "ON TR.book_id = B.book_id  \n",
    "GROUP BY B.title\n",
    "ORDER BY COUNT(TR.book_id) DESC;"
   ]
  },
  {
   "cell_type": "markdown",
   "metadata": {},
   "source": [
    "If you cannot think of a question you want to ask, here are some question examples to help jumpstart your brainstorming process:\n",
    "\n",
    "1. What book has the longest title?\n",
    "1. Which author has written the most books?\n",
    "1. What were the top ten books published the year I was born?"
   ]
  }
 ],
 "metadata": {
  "language_info": {
   "name": "python"
  }
 },
 "nbformat": 4,
 "nbformat_minor": 2
}
