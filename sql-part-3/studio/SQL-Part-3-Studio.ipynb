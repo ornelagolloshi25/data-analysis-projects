{
 "cells": [
  {
   "cell_type": "markdown",
   "metadata": {},
   "source": [
    "# SQL Part 3 Studio\n",
    "\n",
    "Let's practice your SQL querying skills! For each question, work along in the notebook, adding your query and answering the questions.\n",
    "\n",
    "## The Dataset\n",
    "\n",
    "We will be using the Goodbooks-10k dataset from the exercises in the prep work. Feel free reference your previous notebooks.\n",
    "\n",
    "1. The dataset can be found here: [goodbooks-10k](https://www.kaggle.com/zygmunt/goodbooks-10k)\n",
    "1. You can access `BooksDB` in the LaunchCode server.\n",
    "\n",
    "## Business Issue\n",
    "\n",
    "You are an employee at a small independent bookstore and you have been tasked with increasing sales.  You decide to use `BooksDB` to find books and themes to highlight in fun promotions throughout each month and/or season.  We will be starting with March and then you will have a chance to explore another month of your choosing.  We want to come up with a list of promotions to run each month.  If you are looking for ideas, here are some resources on different holidays:\n",
    "\n",
    "- [https://www.calendarr.com/united-states/calendar-2022/](https://www.calendarr.com/united-states/calendar-2022/)\n",
    "- [https://www.holidayinsights.com/moreholidays/](https://www.holidayinsights.com/moreholidays/)\n",
    "    - Click on a month and it will take you to a more detailed page"
   ]
  },
  {
   "cell_type": "markdown",
   "metadata": {},
   "source": [
    "## Part 1:  March - Women's History Month, National Pie Day (3/14), St. Patrick's Day (3/17), Season - Spring"
   ]
  },
  {
   "cell_type": "markdown",
   "metadata": {},
   "source": [
    "### Event 1: Women's History Month\n",
    "\n",
    "Highlight popular women writers based on ratings from `BooksDB` by writing a query that returns `tag_id`, the number of times each `tag_id` is used and the `tag_name`. Use the `GROUP BY` and `HAVING` clause to narrow your focus and try multiple keywords, such as \"woman\" and \"female\"."
   ]
  },
  {
   "cell_type": "code",
   "execution_count": null,
   "metadata": {
    "vscode": {
     "languageId": "sql"
    }
   },
   "outputs": [],
   "source": [
    "-- Solution\n",
    "SELECT \n",
    "    bt.tag_id, \n",
    "    COUNT(*) AS tag_usage, \n",
    "    t.tag_name\n",
    "FROM BooksDB.dbo.book_tags AS bt\n",
    "JOIN BooksDB.dbo.tags AS t ON bt.tag_id = t.tag_id\n",
    "WHERE t.tag_name LIKE '%woman%' OR t.tag_name LIKE '%female%'\n",
    "GROUP BY bt.tag_id, t.tag_name\n",
    "HAVING COUNT(*) > 5\n",
    "ORDER BY tag_usage DESC;"
   ]
  },
  {
   "cell_type": "markdown",
   "metadata": {},
   "source": [
    "### Event 2: Choose another event from March/Spring\n",
    "\n",
    "Write a query to return authors, titles, ratings, and `tag_id` that you would want to promote during your chosen event."
   ]
  },
  {
   "cell_type": "code",
   "execution_count": null,
   "metadata": {
    "vscode": {
     "languageId": "sql"
    }
   },
   "outputs": [],
   "source": [
    "-- Solution\n",
    "SELECT DISTINCT\n",
    "    b.authors, \n",
    "    b.title, \n",
    "    b.average_rating\n",
    "FROM BooksDB.dbo.books AS b\n",
    "JOIN BooksDB.dbo.book_tags AS bt ON b.book_id = bt.goodreads_book_id\n",
    "JOIN BooksDB.dbo.tags AS t ON bt.tag_id = t.tag_id\n",
    "WHERE t.tag_name LIKE '%easter%' \n",
    "   OR t.tag_name LIKE '%faith%' \n",
    "   OR t.tag_name LIKE '%family%'\n",
    "ORDER BY b.average_rating DESC;"
   ]
  },
  {
   "cell_type": "markdown",
   "metadata": {},
   "source": [
    "Record your thoughts about why you wrote the query the way you did."
   ]
  },
  {
   "cell_type": "markdown",
   "metadata": {},
   "source": [
    "# Part 2: Choose Another Month\n",
    "\n",
    "Choose another month and plan at least 2 events / promotions and answer the following questions:\n",
    "1. Which month did you choose?\n",
    "    October\n",
    "1. What 2 events / promotions are you highlighting?\n",
    "    Event 1: \n",
    "        Halloween - Monday, 31 October 2022\n",
    "    Event 2:\n",
    "        Cookbook Launch Day - October 12th"
   ]
  },
  {
   "cell_type": "markdown",
   "metadata": {},
   "source": [
    "# Part 3: Summarize your Work\n",
    "\n",
    "For each event write at least one query that joins any two tables in `BooksDB` to support your choice and record you thoughts as to why you used the paticlular query. At least one of your queries needs to include a `HAVING` clause."
   ]
  },
  {
   "cell_type": "code",
   "execution_count": null,
   "metadata": {
    "vscode": {
     "languageId": "sql"
    }
   },
   "outputs": [],
   "source": [
    "-- Event 1 Query\n",
    "SELECT DISTINCT\n",
    "    b.authors, \n",
    "    b.title, \n",
    "    b.average_rating\n",
    "FROM BooksDB.dbo.books AS b\n",
    "JOIN BooksDB.dbo.book_tags AS bt ON b.book_id = bt.goodreads_book_id\n",
    "JOIN BooksDB.dbo.tags AS t ON bt.tag_id = t.tag_id\n",
    "WHERE t.tag_name LIKE '%horror%' \n",
    "   OR t.tag_name LIKE '%ghost%' \n",
    "   OR t.tag_name LIKE '%mystery%'\n",
    "   OR t.tag_name LIKE '%supernatural%'\n",
    "ORDER BY b.average_rating DESC;"
   ]
  },
  {
   "cell_type": "markdown",
   "metadata": {},
   "source": [
    "### Summarize Event 1\n",
    "\n",
    "Event name: Spooky Stories Showcase\n",
    "Promote horror, thriller, and mystery titles.\n",
    "\n",
    "Feature authors like Shirley Jackson, Stephen King, and Tananarive Due.\n",
    "\n",
    "Use tags like horror, ghost, mystery, and supernatural to curate selections."
   ]
  },
  {
   "cell_type": "code",
   "execution_count": null,
   "metadata": {
    "vscode": {
     "languageId": "sql"
    }
   },
   "outputs": [],
   "source": [
    "-- Event 2 Query\n",
    "SELECT DISTINCT\n",
    "    b.authors, \n",
    "    b.title, \n",
    "    b.average_rating\n",
    "FROM BooksDB.dbo.books AS b\n",
    "INNER JOIN BooksDB.dbo.book_tags AS bt ON b.book_id = bt.goodreads_book_id\n",
    "INNER JOIN BooksDB.dbo.tags AS t ON bt.tag_id = t.tag_id\n",
    "WHERE t.tag_name LIKE '%cookbook%' \n",
    "   OR t.tag_name LIKE '%cooking%' \n",
    "   OR t.tag_name LIKE '%recipes%'\n",
    "   OR t.tag_name LIKE '%baking%'\n",
    "ORDER BY b.title DESC;"
   ]
  },
  {
   "cell_type": "markdown",
   "metadata": {},
   "source": [
    "\n",
    "\n",
    "Event name: Cookbook Launch Day - October 12th\n",
    "Recommended Tags: cookbook, cooking, recipes, baking."
   ]
  }
 ],
 "metadata": {
  "language_info": {
   "name": "python"
  }
 },
 "nbformat": 4,
 "nbformat_minor": 2
}
